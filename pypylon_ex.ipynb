{
 "cells": [
  {
   "cell_type": "code",
   "execution_count": 5,
   "metadata": {},
   "outputs": [
    {
     "name": "stdout",
     "output_type": "stream",
     "text": [
      "Using device  a2A4504-18ucBAS\n"
     ]
    }
   ],
   "source": [
    "from pypylon import pylon\n",
    "from pypylon import genicam\n",
    "import time\n",
    "\n",
    "try:\n",
    "    imageWindow = pylon.PylonImageWindow()\n",
    "    imageWindow.Create(1)\n",
    "    # Create an instant camera object with the camera device found first.\n",
    "    camera = pylon.InstantCamera(pylon.TlFactory.GetInstance().CreateFirstDevice())\n",
    "\n",
    "    # Print the model name of the camera.\n",
    "    print(\"Using device \", camera.GetDeviceInfo().GetModelName())\n",
    "    # Start the grabbing of c_countOfImagesToGrab images.\n",
    "    # The camera device is parameterized with a default configuration which\n",
    "    # sets up free-running continuous acquisition.\n",
    "    camera.StartGrabbingMax(10000, pylon.GrabStrategy_LatestImageOnly)\n",
    "    camera.ExposureTime.Value = 300.0 # [us]\n",
    "\n",
    "    while camera.IsGrabbing():\n",
    "        # Wait for an image and then retrieve it. A timeout of 5000 ms is used.\n",
    "        grabResult = camera.RetrieveResult(5000, pylon.TimeoutHandling_ThrowException)\n",
    "\n",
    "        # Image grabbed successfully?\n",
    "        if grabResult.GrabSucceeded():\n",
    "            imageWindow.SetImage(grabResult)\n",
    "            imageWindow.Show()\n",
    "        else:\n",
    "            print(\"Error: \",\n",
    "                  grabResult.ErrorCode)  # grabResult.ErrorDescription does not work properly in python could throw UnicodeDecodeError\n",
    "        grabResult.Release()\n",
    "        time.sleep(0.05)\n",
    "\n",
    "        if not imageWindow.IsVisible():\n",
    "            camera.StopGrabbing()\n",
    "\n",
    "    # camera has to be closed manually\n",
    "    camera.Close()\n",
    "    # imageWindow has to be closed manually\n",
    "    imageWindow.Close()\n",
    "\n",
    "except genicam.GenericException as e:\n",
    "    # Error handling.\n",
    "    print(\"An exception occurred.\")\n",
    "    print(e)"
   ]
  }
 ],
 "metadata": {
  "kernelspec": {
   "display_name": "Python 3",
   "language": "python",
   "name": "python3"
  },
  "language_info": {
   "codemirror_mode": {
    "name": "ipython",
    "version": 3
   },
   "file_extension": ".py",
   "mimetype": "text/x-python",
   "name": "python",
   "nbconvert_exporter": "python",
   "pygments_lexer": "ipython3",
   "version": "3.12.9"
  }
 },
 "nbformat": 4,
 "nbformat_minor": 2
}
