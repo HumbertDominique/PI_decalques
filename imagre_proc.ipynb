{
 "cells": [
  {
   "cell_type": "code",
   "execution_count": null,
   "id": "7499bd1f",
   "metadata": {},
   "outputs": [],
   "source": [
    "import cv2\n",
    "import numpy as np\n",
    "import glob"
   ]
  },
  {
   "cell_type": "code",
   "execution_count": null,
   "id": "d6a8e625",
   "metadata": {},
   "outputs": [],
   "source": [
    "# Dimensions of the chessboard (number of internal corners)\n",
    "grid_size = (9, 6)\n",
    "\n",
    "# The real-world size of each square (2 cm)\n",
    "square_size = 2  # cm\n",
    "\n",
    "# 3D world coordinates of the chessboard\n",
    "obj_points = np.zeros((grid_size[0] * grid_size[1], 3), np.float32)\n",
    "obj_points[:, :2] = np.mgrid[0:grid_size[0], 0:grid_size[1]].T.reshape(-1, 2) * square_size\n",
    "\n",
    "# Lists for storing the necessary points for calibration\n",
    "object_points = []  # 3D world coordinates\n",
    "image_points = []  # 2D image coordinates\n",
    "\n",
    "# Folder where calibration images are stored\n",
    "images = glob.glob('data/calibration_images/*.jpeg')\n",
    "\n",
    "for fname in images:\n",
    "    img = cv2.imread(fname)\n",
    "    gray = cv2.cvtColor(img, cv2.COLOR_BGR2GRAY)\n",
    "    # Find the corners of the chessboard\n",
    "    ret, corners = cv2.findChessboardCorners(gray, grid_size, None)\n",
    "    print(\"here\")\n",
    "    if ret:\n",
    "        object_points.append(obj_points)\n",
    "        image_points.append(corners)\n",
    "        \n",
    "        # Visualize the corners\n",
    "        cv2.drawChessboardCorners(img, grid_size, corners, ret)\n",
    "        cv2.imshow('Chessboard Corners', img)\n",
    "        cv2.waitKey(500)\n",
    "\n",
    "cv2.destroyAllWindows()\n",
    "\n",
    "# Perform calibration\n",
    "ret, camera_matrix, dist_coeffs, rvecs, tvecs = cv2.calibrateCamera(object_points, image_points, gray.shape[::-1], None, None)\n",
    "\n",
    "# Save the camera matrix and distortion coefficients\n",
    "np.savez(\"calibration_data.npz\", camera_matrix=camera_matrix, dist_coeffs=dist_coeffs)\n",
    "\n",
    "# Print the calibration results\n",
    "print(\"Camera Matrix:\\n\", camera_matrix)\n",
    "print(\"Distortion Coefficients:\\n\", dist_coeffs)"
   ]
  }
 ],
 "metadata": {
  "kernelspec": {
   "display_name": ".venv",
   "language": "python",
   "name": "python3"
  },
  "language_info": {
   "codemirror_mode": {
    "name": "ipython",
    "version": 3
   },
   "file_extension": ".py",
   "mimetype": "text/x-python",
   "name": "python",
   "nbconvert_exporter": "python",
   "pygments_lexer": "ipython3",
   "version": "3.12.9"
  }
 },
 "nbformat": 4,
 "nbformat_minor": 5
}
