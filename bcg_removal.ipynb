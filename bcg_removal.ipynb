{
 "cells": [
  {
   "cell_type": "code",
   "execution_count": null,
   "metadata": {},
   "outputs": [],
   "source": [
    "import numpy as np\n",
    "%matplotlib ipympl\n",
    "from src import src\n",
    "from PIL import Image\n",
    "import matplotlib.pyplot as plt\n",
    "\n",
    "def random_draw(n, min_value=0, max_value=100):\n",
    "    return np.random.randint(min_value, max_value + 1, n)\n",
    "\n",
    "\n",
    "print(random_draw(2*12,1,12))"
   ]
  },
  {
   "cell_type": "markdown",
   "metadata": {},
   "source": [
    "# BCG removal"
   ]
  },
  {
   "cell_type": "code",
   "execution_count": null,
   "metadata": {},
   "outputs": [],
   "source": [
    "image = Image.open(\"data/30mm_WonB_6.bmp\")\n",
    "\n",
    "image = image.resize((256, 256)) # Simplement pour accélèrer le processing durant le développement\n",
    "\n",
    "data = np.asarray(image)[:,:,1] # BW => R=G=B\n",
    "height, width = data.shape\n",
    "\n",
    "mask = src.build_mask(height, width, 90, [1,-5])    # Construit un masque de pour ne pas utiliser certaines données\n",
    "masked_data = mask*data\n",
    "\n",
    "x = np.linspace(-1,1,width)\n",
    "y = np.linspace(-1,1,height)\n",
    "grid_x, grid_y = np.meshgrid(x, y)\n",
    "synt_bcg, trash = src.polynomial_mask(data, mask, [grid_x, grid_y], order=5)\n",
    "\n",
    "print(type(data[0,0]))\n",
    "\n",
    "\n",
    "data_bcg = data - synt_bcg # Ideal, the bcg values are cole to 0 comaratively to the disk\n",
    "\n",
    "plt.close(2)\n",
    "plt.figure(2)\n",
    "plt.subplot(1,2,1)\n",
    "plt.imshow(synt_bcg)\n",
    "plt.colorbar()\n",
    "plt.title(\"synthetic bcg\")\n",
    "plt.subplot(1,2,2)\n",
    "plt.imshow(data-synt_bcg.astype(np.uint8))\n",
    "plt.colorbar()\n",
    "plt.title(\"data-bcg\")\n",
    "plt.show()\n",
    "\n"
   ]
  },
  {
   "cell_type": "markdown",
   "metadata": {},
   "source": [
    "# Distortion correction"
   ]
  },
  {
   "cell_type": "code",
   "execution_count": null,
   "metadata": {},
   "outputs": [],
   "source": []
  }
 ],
 "metadata": {
  "kernelspec": {
   "display_name": ".venv",
   "language": "python",
   "name": "python3"
  },
  "language_info": {
   "codemirror_mode": {
    "name": "ipython",
    "version": 3
   },
   "file_extension": ".py",
   "mimetype": "text/x-python",
   "name": "python",
   "nbconvert_exporter": "python",
   "pygments_lexer": "ipython3",
   "version": "3.12.9"
  }
 },
 "nbformat": 4,
 "nbformat_minor": 2
}
