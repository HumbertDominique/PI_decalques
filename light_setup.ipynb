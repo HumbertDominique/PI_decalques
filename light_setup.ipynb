{
 "cells": [
  {
   "cell_type": "markdown",
   "metadata": {},
   "source": [
    "# Lights\n",
    "\n",
    "Addresses: \n",
    "1. 20\n"
   ]
  },
  {
   "cell_type": "code",
   "execution_count": 2,
   "metadata": {},
   "outputs": [],
   "source": [
    "import serial\n",
    "import time"
   ]
  },
  {
   "cell_type": "code",
   "execution_count": 3,
   "metadata": {},
   "outputs": [
    {
     "name": "stdout",
     "output_type": "stream",
     "text": [
      "Serial<id=0x225df2b8bb0, open=False>(port='COM3', baudrate=115200, bytesize=8, parity='N', stopbits=1, timeout=None, xonxoff=False, rtscts=False, dsrdtr=False)\n"
     ]
    },
    {
     "ename": "SerialException",
     "evalue": "could not open port 'COM3': FileNotFoundError(2, 'The system cannot find the file specified.', None, 2)",
     "output_type": "error",
     "traceback": [
      "\u001b[31m---------------------------------------------------------------------------\u001b[39m",
      "\u001b[31mSerialException\u001b[39m                           Traceback (most recent call last)",
      "\u001b[36mCell\u001b[39m\u001b[36m \u001b[39m\u001b[32mIn[3]\u001b[39m\u001b[32m, line 9\u001b[39m\n\u001b[32m      7\u001b[39m ser.port = \u001b[33m'\u001b[39m\u001b[33mCOM3\u001b[39m\u001b[33m'\u001b[39m\n\u001b[32m      8\u001b[39m \u001b[38;5;28mprint\u001b[39m(ser)\n\u001b[32m----> \u001b[39m\u001b[32m9\u001b[39m \u001b[43mser\u001b[49m\u001b[43m.\u001b[49m\u001b[43mopen\u001b[49m\u001b[43m(\u001b[49m\u001b[43m)\u001b[49m\n\u001b[32m     10\u001b[39m \u001b[38;5;28mprint\u001b[39m(\u001b[33m'\u001b[39m\u001b[33mSerial connected: \u001b[39m\u001b[33m'\u001b[39m, ser.is_open)\n\u001b[32m     12\u001b[39m data = \u001b[33mf\u001b[39m\u001b[33m'\u001b[39m\u001b[33mSAI \u001b[39m\u001b[38;5;132;01m{\u001b[39;00maddress\u001b[38;5;132;01m:\u001b[39;00m\u001b[33mn\u001b[39m\u001b[38;5;132;01m}\u001b[39;00m\u001b[33m:\u001b[39m\u001b[38;5;132;01m{\u001b[39;00mintensity\u001b[38;5;132;01m:\u001b[39;00m\u001b[33mn\u001b[39m\u001b[38;5;132;01m}\u001b[39;00m\u001b[33m'\u001b[39m\n",
      "\u001b[36mFile \u001b[39m\u001b[32mc:\\Users\\amd\\Documents\\GitHub\\PI_decalques\\.venv\\Lib\\site-packages\\serial\\serialwin32.py:64\u001b[39m, in \u001b[36mSerial.open\u001b[39m\u001b[34m(self)\u001b[39m\n\u001b[32m     62\u001b[39m \u001b[38;5;28;01mif\u001b[39;00m \u001b[38;5;28mself\u001b[39m._port_handle == win32.INVALID_HANDLE_VALUE:\n\u001b[32m     63\u001b[39m     \u001b[38;5;28mself\u001b[39m._port_handle = \u001b[38;5;28;01mNone\u001b[39;00m    \u001b[38;5;66;03m# 'cause __del__ is called anyway\u001b[39;00m\n\u001b[32m---> \u001b[39m\u001b[32m64\u001b[39m     \u001b[38;5;28;01mraise\u001b[39;00m SerialException(\u001b[33m\"\u001b[39m\u001b[33mcould not open port \u001b[39m\u001b[38;5;132;01m{!r}\u001b[39;00m\u001b[33m: \u001b[39m\u001b[38;5;132;01m{!r}\u001b[39;00m\u001b[33m\"\u001b[39m.format(\u001b[38;5;28mself\u001b[39m.portstr, ctypes.WinError()))\n\u001b[32m     66\u001b[39m \u001b[38;5;28;01mtry\u001b[39;00m:\n\u001b[32m     67\u001b[39m     \u001b[38;5;28mself\u001b[39m._overlapped_read = win32.OVERLAPPED()\n",
      "\u001b[31mSerialException\u001b[39m: could not open port 'COM3': FileNotFoundError(2, 'The system cannot find the file specified.', None, 2)"
     ]
    }
   ],
   "source": [
    "address = 20\n",
    "intensity = 25 # 1 >= intensity >= 100 (int)\n",
    "duration = 1000000000 # [us] (int)\n",
    "\n",
    "ser = serial.Serial()\n",
    "ser.baudrate = 115200\n",
    "ser.port = 'COM3'\n",
    "print(ser)\n",
    "ser.open()\n",
    "print('Serial connected: ', ser.is_open)\n",
    "\n",
    "data = f'SAI {address:n}:{intensity:n}'\n",
    "data_bytes = data.encode('utf-8')\n",
    "ser.write(data_bytes)\n",
    "print('Data sent:', data)\n",
    "#tdata = ser.read()           # Wait forever for anything\n",
    "time.sleep(1)                # Sleep (or inWaiting() doesn't give the correct value)\n",
    "data_left = ser.inWaiting()  # Get the number of characters ready to be read\n",
    "tdata = ser.readline()  # Do the read and combine it with the first character\n",
    "data = tdata.decode('utf-8')\n",
    "print('Data received:', data)\n",
    "\n",
    "data = f'SAD {address:n}:{duration:n}'\n",
    "data_bytes = data.encode('utf-8')\n",
    "ser.write(data_bytes)\n",
    "print('Data sent:', data)\n",
    "#tdata = ser.read()           # Wait forever for anything\n",
    "time.sleep(1)                # Sleep (or inWaiting() doesn't give the correct value)\n",
    "data_left = ser.inWaiting()  # Get the number of characters ready to be read\n",
    "tdata = ser.readline()  # Do the read and combine it with the first character\n",
    "data = tdata.decode('utf-8')\n",
    "print('Data received:', data)\n",
    "\n",
    "# save the config\n",
    "data = 'WD'\n",
    "data_bytes = data.encode('utf-8')\n",
    "ser.write(data_bytes)\n",
    "print('Data sent:', data)\n",
    "#tdata = ser.read()           # Wait forever for anything\n",
    "time.sleep(1)                # Sleep (or inWaiting() doesn't give the correct value)\n",
    "data_left = ser.inWaiting()  # Get the number of characters ready to be read\n",
    "tdata = ser.readline()  # Do the read and combine it with the first character\n",
    "data = tdata.decode('utf-8')\n",
    "print('Data received:', data)\n",
    "\n",
    "ser.close()\n",
    "print('Serial connected: ', ser.is_open)"
   ]
  }
 ],
 "metadata": {
  "kernelspec": {
   "display_name": ".venv",
   "language": "python",
   "name": "python3"
  },
  "language_info": {
   "codemirror_mode": {
    "name": "ipython",
    "version": 3
   },
   "file_extension": ".py",
   "mimetype": "text/x-python",
   "name": "python",
   "nbconvert_exporter": "python",
   "pygments_lexer": "ipython3",
   "version": "3.12.9"
  }
 },
 "nbformat": 4,
 "nbformat_minor": 2
}
