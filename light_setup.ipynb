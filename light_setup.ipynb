{
 "cells": [
  {
   "cell_type": "markdown",
   "metadata": {},
   "source": [
    "# Lights\n",
    "\n",
    "Addresses: \n",
    "1. 20\n"
   ]
  },
  {
   "cell_type": "code",
   "execution_count": null,
   "metadata": {},
   "outputs": [],
   "source": [
    "import serial\n",
    "import time"
   ]
  },
  {
   "cell_type": "code",
   "execution_count": null,
   "metadata": {},
   "outputs": [],
   "source": [
    "address = 20\n",
    "intensity = 25 # 1 >= intensity >= 100 (int)\n",
    "duration = 1000000000 # [us] (int)\n",
    "\n",
    "ser = serial.Serial()\n",
    "ser.baudrate = 115200\n",
    "ser.port = 'COM3'\n",
    "print(ser)\n",
    "ser.open()\n",
    "print('Serial connected: ', ser.is_open)\n",
    "\n",
    "data = f'SAI {address:n}:{intensity:n}'\n",
    "data_bytes = data.encode('utf-8')\n",
    "ser.write(data_bytes)\n",
    "print('Data sent:', data)\n",
    "#tdata = ser.read()           # Wait forever for anything\n",
    "time.sleep(1)                # Sleep (or inWaiting() doesn't give the correct value)\n",
    "data_left = ser.inWaiting()  # Get the number of characters ready to be read\n",
    "tdata = ser.readline()  # Do the read and combine it with the first character\n",
    "data = tdata.decode('utf-8')\n",
    "print('Data received:', data)\n",
    "\n",
    "data = f'SAD {address:n}:{duration:n}'\n",
    "data_bytes = data.encode('utf-8')\n",
    "ser.write(data_bytes)\n",
    "print('Data sent:', data)\n",
    "#tdata = ser.read()           # Wait forever for anything\n",
    "time.sleep(1)                # Sleep (or inWaiting() doesn't give the correct value)\n",
    "data_left = ser.inWaiting()  # Get the number of characters ready to be read\n",
    "tdata = ser.readline()  # Do the read and combine it with the first character\n",
    "data = tdata.decode('utf-8')\n",
    "print('Data received:', data)\n",
    "\n",
    "# save the config\n",
    "data = 'WD'\n",
    "data_bytes = data.encode('utf-8')\n",
    "ser.write(data_bytes)\n",
    "print('Data sent:', data)\n",
    "#tdata = ser.read()           # Wait forever for anything\n",
    "time.sleep(1)                # Sleep (or inWaiting() doesn't give the correct value)\n",
    "data_left = ser.inWaiting()  # Get the number of characters ready to be read\n",
    "tdata = ser.readline()  # Do the read and combine it with the first character\n",
    "data = tdata.decode('utf-8')\n",
    "print('Data received:', data)\n",
    "\n",
    "ser.close()\n",
    "print('Serial connected: ', ser.is_open)"
   ]
  }
 ],
 "metadata": {
  "kernelspec": {
   "display_name": ".venv",
   "language": "python",
   "name": "python3"
  },
  "language_info": {
   "codemirror_mode": {
    "name": "ipython",
    "version": 3
   },
   "file_extension": ".py",
   "mimetype": "text/x-python",
   "name": "python",
   "nbconvert_exporter": "python",
   "pygments_lexer": "ipython3",
   "version": "3.12.9"
  }
 },
 "nbformat": 4,
 "nbformat_minor": 2
}
