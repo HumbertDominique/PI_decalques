{
 "cells": [
  {
   "cell_type": "markdown",
   "metadata": {},
   "source": [
    "# Lights\n",
    "\n",
    "Addresses: \n",
    "1. 20\n"
   ]
  },
  {
   "cell_type": "code",
   "execution_count": 1,
   "metadata": {},
   "outputs": [],
   "source": [
    "import serial\n",
    "import time\n"
   ]
  },
  {
   "cell_type": "code",
   "execution_count": null,
   "metadata": {},
   "outputs": [
    {
     "name": "stdout",
     "output_type": "stream",
     "text": [
      "Serial<id=0x223e827b8b0, open=False>(port='COM3', baudrate=115200, bytesize=8, parity='N', stopbits=1, timeout=None, xonxoff=False, rtscts=False, dsrdtr=False)\n",
      "True\n"
     ]
    },
    {
     "ename": "ValueError",
     "evalue": "Unknown format code 'i' for object of type 'int'",
     "output_type": "error",
     "traceback": [
      "\u001b[31m---------------------------------------------------------------------------\u001b[39m",
      "\u001b[31mValueError\u001b[39m                                Traceback (most recent call last)",
      "\u001b[36mCell\u001b[39m\u001b[36m \u001b[39m\u001b[32mIn[2]\u001b[39m\u001b[32m, line 12\u001b[39m\n\u001b[32m      9\u001b[39m ser.open()\n\u001b[32m     10\u001b[39m \u001b[38;5;28mprint\u001b[39m(ser.is_open)\n\u001b[32m---> \u001b[39m\u001b[32m12\u001b[39m data = \u001b[33mf\u001b[39m\u001b[33m'\u001b[39m\u001b[33mSAI \u001b[39m\u001b[38;5;132;43;01m{\u001b[39;49;00m\u001b[43maddress\u001b[49m\u001b[38;5;132;43;01m:\u001b[39;49;00m\u001b[33;43mi\u001b[39;49m\u001b[38;5;132;43;01m}\u001b[39;49;00m\u001b[33m:\u001b[39m\u001b[38;5;132;01m{\u001b[39;00mintensity\u001b[38;5;132;01m:\u001b[39;00m\u001b[33mi\u001b[39m\u001b[38;5;132;01m}\u001b[39;00m\u001b[33m'\u001b[39m\n\u001b[32m     13\u001b[39m data_bytes = data.encode(\u001b[33m'\u001b[39m\u001b[33mutf-8\u001b[39m\u001b[33m'\u001b[39m)\n\u001b[32m     14\u001b[39m ser.write(data_bytes)\n",
      "\u001b[31mValueError\u001b[39m: Unknown format code 'i' for object of type 'int'"
     ]
    }
   ],
   "source": [
    "address = 20\n",
    "intensity = 100 # 1 >= intensity >= 100 (int)\n",
    "duration = 1000000 # [us] (int)\n",
    "\n",
    "ser = serial.Serial()\n",
    "ser.baudrate = 115200\n",
    "ser.port = 'COM3'\n",
    "print(ser)\n",
    "ser.open()\n",
    "print(ser.is_open)\n",
    "\n",
    "data = f'SAI {address:n}:{intensity:n}'\n",
    "data_bytes = data.encode('utf-8')\n",
    "ser.write(data_bytes)\n",
    "print('Data sent:', data)\n",
    "#tdata = ser.read()           # Wait forever for anything\n",
    "time.sleep(1)                # Sleep (or inWaiting() doesn't give the correct value)\n",
    "data_left = ser.inWaiting()  # Get the number of characters ready to be read\n",
    "tdata = ser.readline()  # Do the read and combine it with the first character\n",
    "data = tdata.decode('utf-8')\n",
    "print('Data received:', data)\n",
    "\n",
    "data = f'SAD {address:n}:{duration:n}'\n",
    "data_bytes = data.encode('utf-8')\n",
    "ser.write(data_bytes)\n",
    "print('Data sent:', data)\n",
    "#tdata = ser.read()           # Wait forever for anything\n",
    "time.sleep(1)                # Sleep (or inWaiting() doesn't give the correct value)\n",
    "data_left = ser.inWaiting()  # Get the number of characters ready to be read\n",
    "tdata = ser.readline()  # Do the read and combine it with the first character\n",
    "data = tdata.decode('utf-8')\n",
    "print('Data received:', data)\n",
    "\n",
    "# save the config\n",
    "data = 'WD'\n",
    "data_bytes = data.encode('utf-8')\n",
    "ser.write(data_bytes)\n",
    "print('Data sent:', data)\n",
    "#tdata = ser.read()           # Wait forever for anything\n",
    "time.sleep(1)                # Sleep (or inWaiting() doesn't give the correct value)\n",
    "data_left = ser.inWaiting()  # Get the number of characters ready to be read\n",
    "tdata = ser.readline()  # Do the read and combine it with the first character\n",
    "data = tdata.decode('utf-8')\n",
    "print('Data received:', data)\n",
    "\n",
    "ser.close()\n",
    "print(ser.is_open)"
   ]
  }
 ],
 "metadata": {
  "kernelspec": {
   "display_name": ".venv",
   "language": "python",
   "name": "python3"
  },
  "language_info": {
   "codemirror_mode": {
    "name": "ipython",
    "version": 3
   },
   "file_extension": ".py",
   "mimetype": "text/x-python",
   "name": "python",
   "nbconvert_exporter": "python",
   "pygments_lexer": "ipython3",
   "version": "3.12.9"
  }
 },
 "nbformat": 4,
 "nbformat_minor": 2
}
